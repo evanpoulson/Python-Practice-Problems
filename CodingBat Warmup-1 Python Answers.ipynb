{
 "cells": [
  {
   "cell_type": "markdown",
   "id": "0508a548",
   "metadata": {},
   "source": [
    "sleep_in\n",
    "\n",
    "The parameter weekday is True if it is a weekday, and the parameter vacation is True if we are on vacation. We sleep in if it is not a weekday or we're on vacation. Return True if we sleep in."
   ]
  },
  {
   "cell_type": "code",
   "execution_count": 1,
   "id": "53ccd8df",
   "metadata": {},
   "outputs": [],
   "source": [
    "def sleep_in(weekday, vacation):\n",
    "    return (not weekday or vacation)"
   ]
  },
  {
   "cell_type": "markdown",
   "id": "1716fdde",
   "metadata": {},
   "source": [
    "monkey_trouble\n",
    "\n",
    "We have two monkeys, a and b, and the parameters a_smile and b_smile indicate if each is smiling. We are in trouble if they are both smiling or if neither of them is smiling. Return True if we are in trouble."
   ]
  },
  {
   "cell_type": "code",
   "execution_count": 2,
   "id": "994a4531",
   "metadata": {},
   "outputs": [],
   "source": [
    "def monkey_trouble(a_smile, b_smile):\n",
    "    if a_smile == b_smile:\n",
    "        return True\n",
    "    else:\n",
    "        return False"
   ]
  },
  {
   "cell_type": "markdown",
   "id": "ec63743a",
   "metadata": {},
   "source": [
    "sum_double\n",
    "\n",
    "Given two int values, return their sum. Unless the two values are the same, then return double their sum."
   ]
  },
  {
   "cell_type": "code",
   "execution_count": 3,
   "id": "4792b15d",
   "metadata": {},
   "outputs": [],
   "source": [
    "def sum_double(a, b):\n",
    "    if a == b:\n",
    "        return sum([a,b]) * 2\n",
    "    else:\n",
    "        return sum([a,b])"
   ]
  },
  {
   "cell_type": "markdown",
   "id": "2fc58eff",
   "metadata": {},
   "source": [
    "diff21\n",
    "\n",
    "Given an int n, return the absolute difference between n and 21, except return double the absolute difference if n is over 21."
   ]
  },
  {
   "cell_type": "code",
   "execution_count": 4,
   "id": "e5ed91c0",
   "metadata": {},
   "outputs": [],
   "source": [
    "def diff21(n):\n",
    "    if n > 21:\n",
    "        return abs(n-21) * 2\n",
    "    else:\n",
    "        return abs(n-21)"
   ]
  },
  {
   "cell_type": "markdown",
   "id": "97acee3c",
   "metadata": {},
   "source": [
    "parrot_trouble\n",
    "\n",
    "We have a loud talking parrot. The \"hour\" parameter is the current hour time in the range 0..23. We are in trouble if the parrot is talking and the hour is before 7 or after 20. Return True if we are in trouble."
   ]
  },
  {
   "cell_type": "code",
   "execution_count": 5,
   "id": "4cda5863",
   "metadata": {},
   "outputs": [],
   "source": [
    "def parrot_trouble(talking, hour):\n",
    "    if (hour < 7 or hour > 20) and talking:\n",
    "        return True\n",
    "    else:\n",
    "        return False"
   ]
  },
  {
   "cell_type": "markdown",
   "id": "7f8736c6",
   "metadata": {},
   "source": [
    "makes10\n",
    "\n",
    "Given 2 ints, a and b, return True if one if them is 10 or if their sum is 10."
   ]
  },
  {
   "cell_type": "code",
   "execution_count": 6,
   "id": "544ec16a",
   "metadata": {},
   "outputs": [],
   "source": [
    "def makes10(a, b):\n",
    "    if (a == 10 or b == 10) or sum([a,b]) == 10:\n",
    "        return True\n",
    "    else:\n",
    "        return False"
   ]
  },
  {
   "cell_type": "markdown",
   "id": "dc2f60d8",
   "metadata": {},
   "source": [
    "near_hundred\n",
    "\n",
    "Given an int n, return True if it is within 10 of 100 or 200. Note: abs(num) computes the absolute value of a number."
   ]
  },
  {
   "cell_type": "code",
   "execution_count": 7,
   "id": "b78fd198",
   "metadata": {},
   "outputs": [],
   "source": [
    "def near_hundred(n):\n",
    "    if (abs(n-100) <= 10) or (abs(n-200) <= 10):\n",
    "        return True\n",
    "    else:\n",
    "        return False"
   ]
  },
  {
   "cell_type": "markdown",
   "id": "f949f018",
   "metadata": {},
   "source": [
    "pos_neg\n",
    "\n",
    "Given 2 int values, return True if one is negative and one is positive. Except if the parameter \"negative\" is True, then return True only if both are negative."
   ]
  },
  {
   "cell_type": "code",
   "execution_count": 8,
   "id": "22a2e4fd",
   "metadata": {},
   "outputs": [],
   "source": [
    "def pos_neg(a, b, negative):\n",
    "  \n",
    "    if negative:\n",
    "        return (a < 0 and b < 0)\n",
    "    \n",
    "    else:\n",
    "        return (a < 0 and b > 0) or (a > 0 and b < 0)"
   ]
  },
  {
   "cell_type": "markdown",
   "id": "ac510372",
   "metadata": {},
   "source": [
    "not_string\n",
    "\n",
    "Given a string, return a new string where \"not \" has been added to the front. However, if the string already begins with \"not\", return the string unchanged."
   ]
  },
  {
   "cell_type": "code",
   "execution_count": 9,
   "id": "4f5c77ae",
   "metadata": {},
   "outputs": [],
   "source": [
    "def not_string(str):\n",
    "    if str.split()[0] == 'not':\n",
    "        return str\n",
    "    else:\n",
    "        str_list = str.split()\n",
    "        str_list.insert(0, 'not')\n",
    "        return ' '.join(str_list)"
   ]
  },
  {
   "cell_type": "markdown",
   "id": "6f9ef8d5",
   "metadata": {},
   "source": [
    "missing_char\n",
    "\n",
    "Given a non-empty string and an int n, return a new string where the char at index n has been removed. The value of n will be a valid index of a char in the original string (i.e. n will be in the range 0..len(str)-1 inclusive)."
   ]
  },
  {
   "cell_type": "code",
   "execution_count": 10,
   "id": "e42569f1",
   "metadata": {},
   "outputs": [],
   "source": [
    "def missing_char(str, n):\n",
    "    new_string = ''\n",
    "    for i in range(0,len(str)):\n",
    "        if i != n:\n",
    "            new_string += str[i]\n",
    "        else:\n",
    "            pass\n",
    "    return new_string"
   ]
  },
  {
   "cell_type": "markdown",
   "id": "f3ad7809",
   "metadata": {},
   "source": [
    "front_back\n",
    "\n",
    "Given a string, return a new string where the first and last chars have been exchanged."
   ]
  },
  {
   "cell_type": "code",
   "execution_count": 11,
   "id": "fbe17120",
   "metadata": {},
   "outputs": [],
   "source": [
    "def front_back(str):\n",
    "    if len(str) <= 1:\n",
    "        return str\n",
    "    else:\n",
    "        front = str[0]\n",
    "        back = str[-1]\n",
    "        mid = str[1:-1]\n",
    "        return back + mid + front"
   ]
  },
  {
   "cell_type": "markdown",
   "id": "f593d4d7",
   "metadata": {},
   "source": [
    "front3\n",
    "\n",
    "Given a string, we'll say that the front is the first 3 chars of the string. If the string length is less than 3, the front is whatever is there. Return a new string which is 3 copies of the front."
   ]
  },
  {
   "cell_type": "code",
   "execution_count": null,
   "id": "57d8369a",
   "metadata": {},
   "outputs": [],
   "source": [
    "def front3(str):\n",
    "    if len(str) < 3:\n",
    "        return str * 3\n",
    "    else:\n",
    "        return str[0:3] * 3"
   ]
  }
 ],
 "metadata": {
  "kernelspec": {
   "display_name": "Python 3 (ipykernel)",
   "language": "python",
   "name": "python3"
  },
  "language_info": {
   "codemirror_mode": {
    "name": "ipython",
    "version": 3
   },
   "file_extension": ".py",
   "mimetype": "text/x-python",
   "name": "python",
   "nbconvert_exporter": "python",
   "pygments_lexer": "ipython3",
   "version": "3.10.9"
  }
 },
 "nbformat": 4,
 "nbformat_minor": 5
}
